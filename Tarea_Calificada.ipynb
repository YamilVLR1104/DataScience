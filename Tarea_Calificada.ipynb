{
 "cells": [
  {
   "cell_type": "markdown",
   "id": "5c64715b-4b64-4e70-b128-19cd72d8130c",
   "metadata": {
    "tags": []
   },
   "source": [
    "<center>\n",
    "    <img src=\"https://cf-courses-data.s3.us.cloud-object-storage.appdomain.cloud/IBMDeveloperSkillsNetwork-DS0105EN-SkillsNetwork/labs/Module2/images/SN_web_lightmode.png\" width=\"300\" alt=\"cognitiveclass.ai logo\">\n",
    "</center>\n"
   ]
  },
  {
   "cell_type": "markdown",
   "id": "fb8c07c7-68f0-4536-8aad-395cec4594fd",
   "metadata": {},
   "source": [
    "#### Add your code below following the instructions given in the course"
   ]
  },
  {
   "cell_type": "markdown",
   "id": "a82f8747-012e-4b95-b70b-ae7efb942115",
   "metadata": {},
   "source": [
    "# Data Science Tools and Ecosystem"
   ]
  },
  {
   "cell_type": "markdown",
   "id": "cba80d1e-6e76-4fc6-aded-7be15f7de22d",
   "metadata": {},
   "source": [
    "In this notebook, Data Science Tools and Ecosystem are summarized."
   ]
  },
  {
   "cell_type": "markdown",
   "id": "29a4e1d3-b6c8-4d93-ad15-11d48eb6bcf0",
   "metadata": {},
   "source": [
    "**Objectives:**\n",
    "- Identify Key Data Science Frameworks\n",
    "- Compare Data Visualization Tools\n",
    "- Describe Essential Data Preprocessing Techniques\n",
    "- Outline Key Steps in a Data Science Project\n",
    "- List popular languages for Data Science"
   ]
  },
  {
   "cell_type": "markdown",
   "id": "4e4e1ed3-2fbd-4d75-93b7-47e6c898d3a8",
   "metadata": {},
   "source": [
    "Some of the popular languages that Data Scientists use are:\n",
    "1. Python\n",
    "2. SQL\n",
    "3. R"
   ]
  },
  {
   "cell_type": "markdown",
   "id": "2ee3c01b-a89b-44cc-9ceb-b3c78b4bf519",
   "metadata": {},
   "source": [
    "Some of the commonly used libraries used by Data Scientists include:\n",
    "1. Pandas\n",
    "2. Numpy\n",
    "3. Plotly"
   ]
  },
  {
   "cell_type": "markdown",
   "id": "0daf4b60-c0c4-4d1d-857b-0048b0f8270e",
   "metadata": {},
   "source": [
    "|  Data Science Tools   |\n",
    "|-----------------------|\n",
    "|   Jupyter Notebook    | \n",
    "|      Matplotlib       |\n",
    "|          NumPy        |"
   ]
  },
  {
   "cell_type": "code",
   "execution_count": 3,
   "id": "4ae745fb-23b3-4802-9c19-bae73c2ef651",
   "metadata": {
    "tags": []
   },
   "outputs": [
    {
     "data": {
      "text/plain": [
       "17"
      ]
     },
     "execution_count": 3,
     "metadata": {},
     "output_type": "execute_result"
    }
   ],
   "source": [
    "### Below are a few examples of evaluating arithmetic expressions in Python\n",
    "(3*4)+5"
   ]
  },
  {
   "cell_type": "code",
   "execution_count": 5,
   "id": "7320a9fb-7fef-45ac-9b18-b3e66f79f50d",
   "metadata": {
    "tags": []
   },
   "outputs": [
    {
     "data": {
      "text/plain": [
       "3.3333333333333335"
      ]
     },
     "execution_count": 5,
     "metadata": {},
     "output_type": "execute_result"
    }
   ],
   "source": [
    "#This will convert 200 minutes to hours by diving by 60\n",
    "hours = 200/60\n",
    "hours"
   ]
  },
  {
   "cell_type": "markdown",
   "id": "c9d1f51c-7781-4c4c-bacc-41ebc7103155",
   "metadata": {
    "tags": []
   },
   "source": [
    "## Yamil Villarreal"
   ]
  },
  {
   "cell_type": "code",
   "execution_count": null,
   "id": "abce2c0a-29d1-4127-9503-b67f0d10a769",
   "metadata": {},
   "outputs": [],
   "source": []
  }
 ],
 "metadata": {
  "kernelspec": {
   "display_name": "Python",
   "language": "python",
   "name": "conda-env-python-py"
  },
  "language_info": {
   "codemirror_mode": {
    "name": "ipython",
    "version": 3
   },
   "file_extension": ".py",
   "mimetype": "text/x-python",
   "name": "python",
   "nbconvert_exporter": "python",
   "pygments_lexer": "ipython3",
   "version": "3.7.12"
  }
 },
 "nbformat": 4,
 "nbformat_minor": 5
}
